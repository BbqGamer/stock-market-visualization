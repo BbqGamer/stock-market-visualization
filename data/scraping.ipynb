{
 "cells": [
  {
   "cell_type": "code",
   "execution_count": 231,
   "metadata": {},
   "outputs": [],
   "source": [
    "import requests\n",
    "import bs4\n",
    "import pandas as pd\n",
    "import numpy as np\n",
    "import shutil\n",
    "import os"
   ]
  },
  {
   "attachments": {},
   "cell_type": "markdown",
   "metadata": {},
   "source": [
    "Please download kaggle-dataset from: https://www.kaggle.com/datasets/borismarjanovic/price-volume-data-for-all-us-stocks-etfs\n",
    "And put it into directory ./data/kaggle-dataset or change constants below\n",
    "The resulting reduced dataset will be saved into ./data/stocks"
   ]
  },
  {
   "cell_type": "code",
   "execution_count": 232,
   "metadata": {},
   "outputs": [],
   "source": [
    "KAGGLE_DATASET_FOLDER = \"kaggle-dataset\"\n",
    "OUTPUT_FOLDER = \"stocks\""
   ]
  },
  {
   "cell_type": "code",
   "execution_count": 233,
   "metadata": {},
   "outputs": [],
   "source": [
    "url = \"https://disfold.com/united-states/companies/\"\n",
    "response = requests.get(url)\n",
    "soup = bs4.BeautifulSoup(response.text, \"html.parser\")"
   ]
  },
  {
   "cell_type": "code",
   "execution_count": 234,
   "metadata": {},
   "outputs": [],
   "source": [
    "table = soup.find(\"table\", {\"class\": \"striped\"})\n",
    "rows = table.find_all(\"tr\")[1:]"
   ]
  },
  {
   "cell_type": "code",
   "execution_count": 235,
   "metadata": {},
   "outputs": [],
   "source": [
    "companies = list(map(lambda row: [cell.text.strip() for cell in row.find_all(\"td\")], rows))"
   ]
  },
  {
   "cell_type": "code",
   "execution_count": 236,
   "metadata": {},
   "outputs": [
    {
     "name": "stderr",
     "output_type": "stream",
     "text": [
      "/tmp/ipykernel_127966/946786513.py:2: FutureWarning: The default value of regex will change from True to False in a future version. In addition, single character regular expressions will *not* be treated as literal strings when regex=True.\n",
      "  df[\"inputfile\"] = df[\"stock\"].str.lower().str.replace('.', '-') + \".us.txt\"\n",
      "/tmp/ipykernel_127966/946786513.py:3: FutureWarning: The default value of regex will change from True to False in a future version. In addition, single character regular expressions will *not* be treated as literal strings when regex=True.\n",
      "  df[\"datafile\"] = df[\"stock\"].str.lower().str.replace('.', '-') + \".csv\"\n"
     ]
    },
    {
     "data": {
      "text/html": [
       "<div>\n",
       "<style scoped>\n",
       "    .dataframe tbody tr th:only-of-type {\n",
       "        vertical-align: middle;\n",
       "    }\n",
       "\n",
       "    .dataframe tbody tr th {\n",
       "        vertical-align: top;\n",
       "    }\n",
       "\n",
       "    .dataframe thead th {\n",
       "        text-align: right;\n",
       "    }\n",
       "</style>\n",
       "<table border=\"1\" class=\"dataframe\">\n",
       "  <thead>\n",
       "    <tr style=\"text-align: right;\">\n",
       "      <th></th>\n",
       "      <th>company_name</th>\n",
       "      <th>market_cap</th>\n",
       "      <th>stock</th>\n",
       "      <th>country</th>\n",
       "      <th>sector</th>\n",
       "      <th>industry</th>\n",
       "      <th>inputfile</th>\n",
       "      <th>datafile</th>\n",
       "    </tr>\n",
       "    <tr>\n",
       "      <th>index</th>\n",
       "      <th></th>\n",
       "      <th></th>\n",
       "      <th></th>\n",
       "      <th></th>\n",
       "      <th></th>\n",
       "      <th></th>\n",
       "      <th></th>\n",
       "      <th></th>\n",
       "    </tr>\n",
       "  </thead>\n",
       "  <tbody>\n",
       "    <tr>\n",
       "      <th>1</th>\n",
       "      <td>Apple Inc.</td>\n",
       "      <td>$2.067 T</td>\n",
       "      <td>AAPL</td>\n",
       "      <td>United States</td>\n",
       "      <td>Technology</td>\n",
       "      <td>Consumer Electronics</td>\n",
       "      <td>aapl.us.txt</td>\n",
       "      <td>aapl.csv</td>\n",
       "    </tr>\n",
       "    <tr>\n",
       "      <th>2</th>\n",
       "      <td>Microsoft Corporation</td>\n",
       "      <td>$1.788 T</td>\n",
       "      <td>MSFT</td>\n",
       "      <td>United States</td>\n",
       "      <td>Technology</td>\n",
       "      <td>Software—Infrastructure</td>\n",
       "      <td>msft.us.txt</td>\n",
       "      <td>msft.csv</td>\n",
       "    </tr>\n",
       "    <tr>\n",
       "      <th>3</th>\n",
       "      <td>Alphabet Inc.</td>\n",
       "      <td>$1.158 T</td>\n",
       "      <td>GOOG</td>\n",
       "      <td>United States</td>\n",
       "      <td>Communication Services</td>\n",
       "      <td>Internet Content &amp; Information</td>\n",
       "      <td>goog.us.txt</td>\n",
       "      <td>goog.csv</td>\n",
       "    </tr>\n",
       "    <tr>\n",
       "      <th>4</th>\n",
       "      <td>Amazon.com, Inc.</td>\n",
       "      <td>$875.51 B</td>\n",
       "      <td>AMZN</td>\n",
       "      <td>United States</td>\n",
       "      <td>Consumer Discretionary</td>\n",
       "      <td>Internet Retail</td>\n",
       "      <td>amzn.us.txt</td>\n",
       "      <td>amzn.csv</td>\n",
       "    </tr>\n",
       "    <tr>\n",
       "      <th>5</th>\n",
       "      <td>Berkshire Hathaway Inc.</td>\n",
       "      <td>$683.10 B</td>\n",
       "      <td>BRK.B</td>\n",
       "      <td>United States</td>\n",
       "      <td>Financials</td>\n",
       "      <td>Financial Conglomerates</td>\n",
       "      <td>brk-b.us.txt</td>\n",
       "      <td>brk-b.csv</td>\n",
       "    </tr>\n",
       "  </tbody>\n",
       "</table>\n",
       "</div>"
      ],
      "text/plain": [
       "                  company_name market_cap  stock        country  \\\n",
       "index                                                             \n",
       "1                   Apple Inc.   $2.067 T   AAPL  United States   \n",
       "2        Microsoft Corporation   $1.788 T   MSFT  United States   \n",
       "3                Alphabet Inc.   $1.158 T   GOOG  United States   \n",
       "4             Amazon.com, Inc.  $875.51 B   AMZN  United States   \n",
       "5      Berkshire Hathaway Inc.  $683.10 B  BRK.B  United States   \n",
       "\n",
       "                       sector                        industry     inputfile  \\\n",
       "index                                                                         \n",
       "1                  Technology            Consumer Electronics   aapl.us.txt   \n",
       "2                  Technology         Software—Infrastructure   msft.us.txt   \n",
       "3      Communication Services  Internet Content & Information   goog.us.txt   \n",
       "4      Consumer Discretionary                 Internet Retail   amzn.us.txt   \n",
       "5                  Financials         Financial Conglomerates  brk-b.us.txt   \n",
       "\n",
       "        datafile  \n",
       "index             \n",
       "1       aapl.csv  \n",
       "2       msft.csv  \n",
       "3       goog.csv  \n",
       "4       amzn.csv  \n",
       "5      brk-b.csv  "
      ]
     },
     "execution_count": 236,
     "metadata": {},
     "output_type": "execute_result"
    }
   ],
   "source": [
    "df = pd.DataFrame(companies, columns=[\"index\", \"company_name\", \"market_cap\", \"stock\", \"country\", \"sector\", \"industry\"]).set_index(\"index\")\n",
    "df[\"inputfile\"] = df[\"stock\"].str.lower().str.replace('.', '-') + \".us.txt\"\n",
    "df[\"datafile\"] = df[\"stock\"].str.lower().str.replace('.', '-') + \".csv\"\n",
    "df.head()"
   ]
  },
  {
   "attachments": {},
   "cell_type": "markdown",
   "metadata": {},
   "source": [
    "Dataset comes from before facebook changed name to META"
   ]
  },
  {
   "cell_type": "code",
   "execution_count": 237,
   "metadata": {},
   "outputs": [
    {
     "data": {
      "text/plain": [
       "Index(['company_name', 'market_cap', 'stock', 'country', 'sector', 'industry',\n",
       "       'inputfile', 'datafile'],\n",
       "      dtype='object')"
      ]
     },
     "execution_count": 237,
     "metadata": {},
     "output_type": "execute_result"
    }
   ],
   "source": [
    "df.columns"
   ]
  },
  {
   "cell_type": "code",
   "execution_count": 238,
   "metadata": {},
   "outputs": [],
   "source": [
    "df.iloc[18, 6] = \"fac.us.txt\"\n",
    "df.iloc[18, 7] = \"fac.csv\""
   ]
  },
  {
   "attachments": {},
   "cell_type": "markdown",
   "metadata": {},
   "source": [
    "Aparently RTX company didn't exist on stock market when dataset was taken"
   ]
  },
  {
   "cell_type": "code",
   "execution_count": 239,
   "metadata": {},
   "outputs": [
    {
     "data": {
      "text/html": [
       "<div>\n",
       "<style scoped>\n",
       "    .dataframe tbody tr th:only-of-type {\n",
       "        vertical-align: middle;\n",
       "    }\n",
       "\n",
       "    .dataframe tbody tr th {\n",
       "        vertical-align: top;\n",
       "    }\n",
       "\n",
       "    .dataframe thead th {\n",
       "        text-align: right;\n",
       "    }\n",
       "</style>\n",
       "<table border=\"1\" class=\"dataframe\">\n",
       "  <thead>\n",
       "    <tr style=\"text-align: right;\">\n",
       "      <th></th>\n",
       "      <th>company_name</th>\n",
       "      <th>market_cap</th>\n",
       "      <th>stock</th>\n",
       "      <th>country</th>\n",
       "      <th>sector</th>\n",
       "      <th>industry</th>\n",
       "      <th>inputfile</th>\n",
       "      <th>datafile</th>\n",
       "    </tr>\n",
       "    <tr>\n",
       "      <th>index</th>\n",
       "      <th></th>\n",
       "      <th></th>\n",
       "      <th></th>\n",
       "      <th></th>\n",
       "      <th></th>\n",
       "      <th></th>\n",
       "      <th></th>\n",
       "      <th></th>\n",
       "    </tr>\n",
       "  </thead>\n",
       "  <tbody>\n",
       "    <tr>\n",
       "      <th>47</th>\n",
       "      <td>Raytheon Technologies Corporation</td>\n",
       "      <td>$148.36 B</td>\n",
       "      <td>RTX</td>\n",
       "      <td>United States</td>\n",
       "      <td>Industrials</td>\n",
       "      <td>Aerospace &amp; Defense</td>\n",
       "      <td>rtx.us.txt</td>\n",
       "      <td>rtx.csv</td>\n",
       "    </tr>\n",
       "  </tbody>\n",
       "</table>\n",
       "</div>"
      ],
      "text/plain": [
       "                            company_name market_cap stock        country  \\\n",
       "index                                                                      \n",
       "47     Raytheon Technologies Corporation  $148.36 B   RTX  United States   \n",
       "\n",
       "            sector             industry   inputfile datafile  \n",
       "index                                                         \n",
       "47     Industrials  Aerospace & Defense  rtx.us.txt  rtx.csv  "
      ]
     },
     "execution_count": 239,
     "metadata": {},
     "output_type": "execute_result"
    }
   ],
   "source": [
    "df[df[\"stock\"] == \"RTX\"]"
   ]
  },
  {
   "cell_type": "code",
   "execution_count": 240,
   "metadata": {},
   "outputs": [],
   "source": [
    "#Drop ow 47\n",
    "df = df.drop('47')"
   ]
  },
  {
   "cell_type": "code",
   "execution_count": 241,
   "metadata": {},
   "outputs": [],
   "source": [
    "if not os.path.exists(OUTPUT_FOLDER):\n",
    "    os.mkdir(OUTPUT_FOLDER)\n",
    "\n",
    "for input_file, output_file in zip(df[\"inputfile\"], df[\"datafile\"]):\n",
    "    datafile = f\"{KAGGLE_DATASET_FOLDER}/Stocks/{input_file}\"\n",
    "    shutil.copyfile(datafile, f\"{OUTPUT_FOLDER}/{output_file}\")"
   ]
  },
  {
   "cell_type": "code",
   "execution_count": 242,
   "metadata": {},
   "outputs": [
    {
     "ename": "SyntaxError",
     "evalue": "closing parenthesis ')' does not match opening parenthesis '[' (2773937681.py, line 1)",
     "output_type": "error",
     "traceback": [
      "\u001b[0;36m  Cell \u001b[0;32mIn[242], line 1\u001b[0;36m\u001b[0m\n\u001b[0;31m    df.drop([\"inputfile\", axis=1).to_csv(\"companies.csv\")\u001b[0m\n\u001b[0m                                ^\u001b[0m\n\u001b[0;31mSyntaxError\u001b[0m\u001b[0;31m:\u001b[0m closing parenthesis ')' does not match opening parenthesis '['\n"
     ]
    }
   ],
   "source": [
    "df.drop([\"inputfile\"], axis=1).to_csv(\"companies.csv\")"
   ]
  }
 ],
 "metadata": {
  "kernelspec": {
   "display_name": "data-mining",
   "language": "python",
   "name": "python3"
  },
  "language_info": {
   "codemirror_mode": {
    "name": "ipython",
    "version": 3
   },
   "file_extension": ".py",
   "mimetype": "text/x-python",
   "name": "python",
   "nbconvert_exporter": "python",
   "pygments_lexer": "ipython3",
   "version": "3.10.9"
  },
  "orig_nbformat": 4
 },
 "nbformat": 4,
 "nbformat_minor": 2
}
